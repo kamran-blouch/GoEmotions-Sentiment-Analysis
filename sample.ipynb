{
 "cells": [
  {
   "cell_type": "code",
   "execution_count": 1,
   "id": "cdd53201",
   "metadata": {},
   "outputs": [
    {
     "name": "stdout",
     "output_type": "stream",
     "text": [
      "hello world\n"
     ]
    }
   ],
   "source": [
    "print(\"hello world\")"
   ]
  },
  {
   "cell_type": "code",
   "execution_count": 2,
   "id": "603f6056",
   "metadata": {},
   "outputs": [
    {
     "name": "stderr",
     "output_type": "stream",
     "text": [
      "[nltk_data] Downloading package stopwords to\n",
      "[nltk_data]     C:\\Users\\PMLS\\AppData\\Roaming\\nltk_data...\n",
      "[nltk_data]   Package stopwords is already up-to-date!\n",
      "[nltk_data] Downloading package punkt to\n",
      "[nltk_data]     C:\\Users\\PMLS\\AppData\\Roaming\\nltk_data...\n",
      "[nltk_data]   Package punkt is already up-to-date!\n",
      "[nltk_data] Downloading package punkt_tab to\n",
      "[nltk_data]     C:\\Users\\PMLS\\AppData\\Roaming\\nltk_data...\n",
      "[nltk_data]   Package punkt_tab is already up-to-date!\n"
     ]
    },
    {
     "data": {
      "text/plain": [
       "True"
      ]
     },
     "execution_count": 2,
     "metadata": {},
     "output_type": "execute_result"
    }
   ],
   "source": [
    "import nltk\n",
    "nltk.download('stopwords')\n",
    "nltk.download('punkt')\n",
    "nltk.download('punkt_tab')"
   ]
  },
  {
   "cell_type": "code",
   "execution_count": 2,
   "id": "3b3d7149",
   "metadata": {},
   "outputs": [
    {
     "name": "stdout",
     "output_type": "stream",
     "text": [
      "\u001b[38;5;2m✔ Download and installation successful\u001b[0m\n",
      "You can now load the package via spacy.load('en_core_web_sm')\n",
      "\u001b[38;5;3m⚠ Restart to reload dependencies\u001b[0m\n",
      "If you are in a Jupyter or Colab notebook, you may need to restart Python in\n",
      "order to load all the package's dependencies. You can do this by selecting the\n",
      "'Restart kernel' or 'Restart runtime' option.\n"
     ]
    }
   ],
   "source": [
    "import spacy\n",
    "spacy.cli.download(\"en_core_web_sm\")"
   ]
  },
  {
   "cell_type": "code",
   "execution_count": 1,
   "id": "3c3e5aed",
   "metadata": {},
   "outputs": [],
   "source": [
    "# Second cell (after restart)\n",
    "import spacy\n",
    "nlp = spacy.load(\"en_core_web_sm\")\n"
   ]
  },
  {
   "cell_type": "code",
   "execution_count": 4,
   "id": "030da206",
   "metadata": {},
   "outputs": [
    {
     "name": "stdout",
     "output_type": "stream",
     "text": [
      "First 5 rows of the dataset:\n"
     ]
    },
    {
     "data": {
      "text/html": [
       "<div>\n",
       "<style scoped>\n",
       "    .dataframe tbody tr th:only-of-type {\n",
       "        vertical-align: middle;\n",
       "    }\n",
       "\n",
       "    .dataframe tbody tr th {\n",
       "        vertical-align: top;\n",
       "    }\n",
       "\n",
       "    .dataframe thead th {\n",
       "        text-align: right;\n",
       "    }\n",
       "</style>\n",
       "<table border=\"1\" class=\"dataframe\">\n",
       "  <thead>\n",
       "    <tr style=\"text-align: right;\">\n",
       "      <th></th>\n",
       "      <th>review</th>\n",
       "      <th>sentiment</th>\n",
       "    </tr>\n",
       "  </thead>\n",
       "  <tbody>\n",
       "    <tr>\n",
       "      <th>0</th>\n",
       "      <td>One of the other reviewers has mentioned that after watching just 1 Oz episode you'll be hooked. They are right, as this is exactly what happened with me.&lt;br /&gt;&lt;br /&gt;The first thing that struck me about Oz was its brutality and unflinching scenes of violence, which set in right from the word GO. Trust me, this is not a show for the faint hearted or timid. This show pulls no punches with regards to drugs, sex or violence. Its is hardcore, in the classic use of the word.&lt;br /&gt;&lt;br /&gt;It is called OZ as that is the nickname given to the Oswald Maximum Security State Penitentary. It focuses mainly on Emerald City, an experimental section of the prison where all the cells have glass fronts and face inwards, so privacy is not high on the agenda. Em City is home to many..Aryans, Muslims, gangstas, Latinos, Christians, Italians, Irish and more....so scuffles, death stares, dodgy dealings and shady agreements are never far away.&lt;br /&gt;&lt;br /&gt;I would say the main appeal of the show is due to the fact that it goes where other shows wouldn't dare. Forget pretty pictures painted for mainstream audiences, forget charm, forget romance...OZ doesn't mess around. The first episode I ever saw struck me as so nasty it was surreal, I couldn't say I was ready for it, but as I watched more, I developed a taste for Oz, and got accustomed to the high levels of graphic violence. Not just violence, but injustice (crooked guards who'll be sold out for a nickel, inmates who'll kill on order and get away with it, well mannered, middle class inmates being turned into prison bitches due to their lack of street skills or prison experience) Watching Oz, you may become comfortable with what is uncomfortable viewing....thats if you can get in touch with your darker side.</td>\n",
       "      <td>positive</td>\n",
       "    </tr>\n",
       "    <tr>\n",
       "      <th>1</th>\n",
       "      <td>A wonderful little production. &lt;br /&gt;&lt;br /&gt;The filming technique is very unassuming- very old-time-BBC fashion and gives a comforting, and sometimes discomforting, sense of realism to the entire piece. &lt;br /&gt;&lt;br /&gt;The actors are extremely well chosen- Michael Sheen not only \"has got all the polari\" but he has all the voices down pat too! You can truly see the seamless editing guided by the references to Williams' diary entries, not only is it well worth the watching but it is a terrificly written and performed piece. A masterful production about one of the great master's of comedy and his life. &lt;br /&gt;&lt;br /&gt;The realism really comes home with the little things: the fantasy of the guard which, rather than use the traditional 'dream' techniques remains solid then disappears. It plays on our knowledge and our senses, particularly with the scenes concerning Orton and Halliwell and the sets (particularly of their flat with Halliwell's murals decorating every surface) are terribly well done.</td>\n",
       "      <td>positive</td>\n",
       "    </tr>\n",
       "    <tr>\n",
       "      <th>2</th>\n",
       "      <td>I thought this was a wonderful way to spend time on a too hot summer weekend, sitting in the air conditioned theater and watching a light-hearted comedy. The plot is simplistic, but the dialogue is witty and the characters are likable (even the well bread suspected serial killer). While some may be disappointed when they realize this is not Match Point 2: Risk Addiction, I thought it was proof that Woody Allen is still fully in control of the style many of us have grown to love.&lt;br /&gt;&lt;br /&gt;This was the most I'd laughed at one of Woody's comedies in years (dare I say a decade?). While I've never been impressed with Scarlet Johanson, in this she managed to tone down her \"sexy\" image and jumped right into a average, but spirited young woman.&lt;br /&gt;&lt;br /&gt;This may not be the crown jewel of his career, but it was wittier than \"Devil Wears Prada\" and more interesting than \"Superman\" a great comedy to go see with friends.</td>\n",
       "      <td>positive</td>\n",
       "    </tr>\n",
       "    <tr>\n",
       "      <th>3</th>\n",
       "      <td>Basically there's a family where a little boy (Jake) thinks there's a zombie in his closet &amp; his parents are fighting all the time.&lt;br /&gt;&lt;br /&gt;This movie is slower than a soap opera... and suddenly, Jake decides to become Rambo and kill the zombie.&lt;br /&gt;&lt;br /&gt;OK, first of all when you're going to make a film you must Decide if its a thriller or a drama! As a drama the movie is watchable. Parents are divorcing &amp; arguing like in real life. And then we have Jake with his closet which totally ruins all the film! I expected to see a BOOGEYMAN similar movie, and instead i watched a drama with some meaningless thriller spots.&lt;br /&gt;&lt;br /&gt;3 out of 10 just for the well playing parents &amp; descent dialogs. As for the shots with Jake: just ignore them.</td>\n",
       "      <td>negative</td>\n",
       "    </tr>\n",
       "    <tr>\n",
       "      <th>4</th>\n",
       "      <td>Petter Mattei's \"Love in the Time of Money\" is a visually stunning film to watch. Mr. Mattei offers us a vivid portrait about human relations. This is a movie that seems to be telling us what money, power and success do to people in the different situations we encounter. &lt;br /&gt;&lt;br /&gt;This being a variation on the Arthur Schnitzler's play about the same theme, the director transfers the action to the present time New York where all these different characters meet and connect. Each one is connected in one way, or another to the next person, but no one seems to know the previous point of contact. Stylishly, the film has a sophisticated luxurious look. We are taken to see how these people live and the world they live in their own habitat.&lt;br /&gt;&lt;br /&gt;The only thing one gets out of all these souls in the picture is the different stages of loneliness each one inhabits. A big city is not exactly the best place in which human relations find sincere fulfillment, as one discerns is the case with most of the people we encounter.&lt;br /&gt;&lt;br /&gt;The acting is good under Mr. Mattei's direction. Steve Buscemi, Rosario Dawson, Carol Kane, Michael Imperioli, Adrian Grenier, and the rest of the talented cast, make these characters come alive.&lt;br /&gt;&lt;br /&gt;We wish Mr. Mattei good luck and await anxiously for his next work.</td>\n",
       "      <td>positive</td>\n",
       "    </tr>\n",
       "  </tbody>\n",
       "</table>\n",
       "</div>"
      ],
      "text/plain": [
       "                                                                                                                                                                                                                                                                                                                                                                                                                                                                                                                                                                                                                                                                                                                                                                                                                                                                                                                                                                                                                                                                                                                                                                                                                                                                                                                                                                                                                                                                                                                                                                                                                                                                                                                                                                                                                              review  \\\n",
       "0  One of the other reviewers has mentioned that after watching just 1 Oz episode you'll be hooked. They are right, as this is exactly what happened with me.<br /><br />The first thing that struck me about Oz was its brutality and unflinching scenes of violence, which set in right from the word GO. Trust me, this is not a show for the faint hearted or timid. This show pulls no punches with regards to drugs, sex or violence. Its is hardcore, in the classic use of the word.<br /><br />It is called OZ as that is the nickname given to the Oswald Maximum Security State Penitentary. It focuses mainly on Emerald City, an experimental section of the prison where all the cells have glass fronts and face inwards, so privacy is not high on the agenda. Em City is home to many..Aryans, Muslims, gangstas, Latinos, Christians, Italians, Irish and more....so scuffles, death stares, dodgy dealings and shady agreements are never far away.<br /><br />I would say the main appeal of the show is due to the fact that it goes where other shows wouldn't dare. Forget pretty pictures painted for mainstream audiences, forget charm, forget romance...OZ doesn't mess around. The first episode I ever saw struck me as so nasty it was surreal, I couldn't say I was ready for it, but as I watched more, I developed a taste for Oz, and got accustomed to the high levels of graphic violence. Not just violence, but injustice (crooked guards who'll be sold out for a nickel, inmates who'll kill on order and get away with it, well mannered, middle class inmates being turned into prison bitches due to their lack of street skills or prison experience) Watching Oz, you may become comfortable with what is uncomfortable viewing....thats if you can get in touch with your darker side.   \n",
       "1                                                                                                                                                                                                                                                                                                                                                                                                                                                                                                                                                                                                                                                                                                                                                                                             A wonderful little production. <br /><br />The filming technique is very unassuming- very old-time-BBC fashion and gives a comforting, and sometimes discomforting, sense of realism to the entire piece. <br /><br />The actors are extremely well chosen- Michael Sheen not only \"has got all the polari\" but he has all the voices down pat too! You can truly see the seamless editing guided by the references to Williams' diary entries, not only is it well worth the watching but it is a terrificly written and performed piece. A masterful production about one of the great master's of comedy and his life. <br /><br />The realism really comes home with the little things: the fantasy of the guard which, rather than use the traditional 'dream' techniques remains solid then disappears. It plays on our knowledge and our senses, particularly with the scenes concerning Orton and Halliwell and the sets (particularly of their flat with Halliwell's murals decorating every surface) are terribly well done.   \n",
       "2                                                                                                                                                                                                                                                                                                                                                                                                                                                                                                                                                                                                                                                                                                                                                                                                                                                                     I thought this was a wonderful way to spend time on a too hot summer weekend, sitting in the air conditioned theater and watching a light-hearted comedy. The plot is simplistic, but the dialogue is witty and the characters are likable (even the well bread suspected serial killer). While some may be disappointed when they realize this is not Match Point 2: Risk Addiction, I thought it was proof that Woody Allen is still fully in control of the style many of us have grown to love.<br /><br />This was the most I'd laughed at one of Woody's comedies in years (dare I say a decade?). While I've never been impressed with Scarlet Johanson, in this she managed to tone down her \"sexy\" image and jumped right into a average, but spirited young woman.<br /><br />This may not be the crown jewel of his career, but it was wittier than \"Devil Wears Prada\" and more interesting than \"Superman\" a great comedy to go see with friends.   \n",
       "3                                                                                                                                                                                                                                                                                                                                                                                                                                                                                                                                                                                                                                                                                                                                                                                                                                                                                                                                                                                                                                                       Basically there's a family where a little boy (Jake) thinks there's a zombie in his closet & his parents are fighting all the time.<br /><br />This movie is slower than a soap opera... and suddenly, Jake decides to become Rambo and kill the zombie.<br /><br />OK, first of all when you're going to make a film you must Decide if its a thriller or a drama! As a drama the movie is watchable. Parents are divorcing & arguing like in real life. And then we have Jake with his closet which totally ruins all the film! I expected to see a BOOGEYMAN similar movie, and instead i watched a drama with some meaningless thriller spots.<br /><br />3 out of 10 just for the well playing parents & descent dialogs. As for the shots with Jake: just ignore them.   \n",
       "4                                                                                                                                                                                                                                                                                                                                                                                                                                                              Petter Mattei's \"Love in the Time of Money\" is a visually stunning film to watch. Mr. Mattei offers us a vivid portrait about human relations. This is a movie that seems to be telling us what money, power and success do to people in the different situations we encounter. <br /><br />This being a variation on the Arthur Schnitzler's play about the same theme, the director transfers the action to the present time New York where all these different characters meet and connect. Each one is connected in one way, or another to the next person, but no one seems to know the previous point of contact. Stylishly, the film has a sophisticated luxurious look. We are taken to see how these people live and the world they live in their own habitat.<br /><br />The only thing one gets out of all these souls in the picture is the different stages of loneliness each one inhabits. A big city is not exactly the best place in which human relations find sincere fulfillment, as one discerns is the case with most of the people we encounter.<br /><br />The acting is good under Mr. Mattei's direction. Steve Buscemi, Rosario Dawson, Carol Kane, Michael Imperioli, Adrian Grenier, and the rest of the talented cast, make these characters come alive.<br /><br />We wish Mr. Mattei good luck and await anxiously for his next work.   \n",
       "\n",
       "  sentiment  \n",
       "0  positive  \n",
       "1  positive  \n",
       "2  positive  \n",
       "3  negative  \n",
       "4  positive  "
      ]
     },
     "metadata": {},
     "output_type": "display_data"
    }
   ],
   "source": [
    "import pandas as pd\n",
    "pd.set_option('display.max_colwidth',None)\n",
    "try:\n",
    "    df = pd.read_csv('dataset.csv')\n",
    "except FileNotFoundError:\n",
    "    print(\"Error: 'dataset.csv' not found.Make sure the file is in the same directory as the script\")\n",
    "print(\"First 5 rows of the dataset:\")\n",
    "display(df.head())\n"
   ]
  },
  {
   "cell_type": "code",
   "execution_count": 6,
   "id": "3e92db9b",
   "metadata": {},
   "outputs": [
    {
     "name": "stdout",
     "output_type": "stream",
     "text": [
      "\n",
      "Dataset Information:\n",
      "<class 'pandas.core.frame.DataFrame'>\n",
      "RangeIndex: 50000 entries, 0 to 49999\n",
      "Data columns (total 2 columns):\n",
      " #   Column     Non-Null Count  Dtype \n",
      "---  ------     --------------  ----- \n",
      " 0   review     50000 non-null  object\n",
      " 1   sentiment  50000 non-null  object\n",
      "dtypes: object(2)\n",
      "memory usage: 781.4+ KB\n"
     ]
    }
   ],
   "source": [
    "print(\"\\nDataset Information:\")\n",
    "df.info()"
   ]
  },
  {
   "cell_type": "code",
   "execution_count": 9,
   "id": "e1935b38",
   "metadata": {},
   "outputs": [
    {
     "name": "stdout",
     "output_type": "stream",
     "text": [
      "\n",
      "Sentiment Distribution:\n",
      "sentiment\n",
      "positive    25000\n",
      "negative    25000\n",
      "Name: count, dtype: int64\n"
     ]
    }
   ],
   "source": [
    "print(\"\\nSentiment Distribution:\")\n",
    "print(df['sentiment'].value_counts())"
   ]
  },
  {
   "cell_type": "code",
   "execution_count": 12,
   "id": "1ceb78aa",
   "metadata": {},
   "outputs": [
    {
     "data": {
      "text/plain": [
       "{'a',\n",
       " 'about',\n",
       " 'above',\n",
       " 'after',\n",
       " 'again',\n",
       " 'against',\n",
       " 'ain',\n",
       " 'all',\n",
       " 'am',\n",
       " 'an',\n",
       " 'and',\n",
       " 'any',\n",
       " 'are',\n",
       " 'aren',\n",
       " \"aren't\",\n",
       " 'as',\n",
       " 'at',\n",
       " 'be',\n",
       " 'because',\n",
       " 'been',\n",
       " 'before',\n",
       " 'being',\n",
       " 'below',\n",
       " 'between',\n",
       " 'both',\n",
       " 'but',\n",
       " 'by',\n",
       " 'can',\n",
       " 'couldn',\n",
       " \"couldn't\",\n",
       " 'd',\n",
       " 'did',\n",
       " 'didn',\n",
       " \"didn't\",\n",
       " 'do',\n",
       " 'does',\n",
       " 'doesn',\n",
       " \"doesn't\",\n",
       " 'doing',\n",
       " 'don',\n",
       " \"don't\",\n",
       " 'down',\n",
       " 'during',\n",
       " 'each',\n",
       " 'few',\n",
       " 'for',\n",
       " 'from',\n",
       " 'further',\n",
       " 'had',\n",
       " 'hadn',\n",
       " \"hadn't\",\n",
       " 'has',\n",
       " 'hasn',\n",
       " \"hasn't\",\n",
       " 'have',\n",
       " 'haven',\n",
       " \"haven't\",\n",
       " 'having',\n",
       " 'he',\n",
       " \"he'd\",\n",
       " \"he'll\",\n",
       " \"he's\",\n",
       " 'her',\n",
       " 'here',\n",
       " 'hers',\n",
       " 'herself',\n",
       " 'him',\n",
       " 'himself',\n",
       " 'his',\n",
       " 'how',\n",
       " 'i',\n",
       " \"i'd\",\n",
       " \"i'll\",\n",
       " \"i'm\",\n",
       " \"i've\",\n",
       " 'if',\n",
       " 'in',\n",
       " 'into',\n",
       " 'is',\n",
       " 'isn',\n",
       " \"isn't\",\n",
       " 'it',\n",
       " \"it'd\",\n",
       " \"it'll\",\n",
       " \"it's\",\n",
       " 'its',\n",
       " 'itself',\n",
       " 'just',\n",
       " 'll',\n",
       " 'm',\n",
       " 'ma',\n",
       " 'me',\n",
       " 'mightn',\n",
       " \"mightn't\",\n",
       " 'more',\n",
       " 'most',\n",
       " 'mustn',\n",
       " \"mustn't\",\n",
       " 'my',\n",
       " 'myself',\n",
       " 'needn',\n",
       " \"needn't\",\n",
       " 'no',\n",
       " 'nor',\n",
       " 'not',\n",
       " 'now',\n",
       " 'o',\n",
       " 'of',\n",
       " 'off',\n",
       " 'on',\n",
       " 'once',\n",
       " 'only',\n",
       " 'or',\n",
       " 'other',\n",
       " 'our',\n",
       " 'ours',\n",
       " 'ourselves',\n",
       " 'out',\n",
       " 'over',\n",
       " 'own',\n",
       " 're',\n",
       " 's',\n",
       " 'same',\n",
       " 'shan',\n",
       " \"shan't\",\n",
       " 'she',\n",
       " \"she'd\",\n",
       " \"she'll\",\n",
       " \"she's\",\n",
       " 'should',\n",
       " \"should've\",\n",
       " 'shouldn',\n",
       " \"shouldn't\",\n",
       " 'so',\n",
       " 'some',\n",
       " 'such',\n",
       " 't',\n",
       " 'than',\n",
       " 'that',\n",
       " \"that'll\",\n",
       " 'the',\n",
       " 'their',\n",
       " 'theirs',\n",
       " 'them',\n",
       " 'themselves',\n",
       " 'then',\n",
       " 'there',\n",
       " 'these',\n",
       " 'they',\n",
       " \"they'd\",\n",
       " \"they'll\",\n",
       " \"they're\",\n",
       " \"they've\",\n",
       " 'this',\n",
       " 'those',\n",
       " 'through',\n",
       " 'to',\n",
       " 'too',\n",
       " 'under',\n",
       " 'until',\n",
       " 'up',\n",
       " 've',\n",
       " 'very',\n",
       " 'was',\n",
       " 'wasn',\n",
       " \"wasn't\",\n",
       " 'we',\n",
       " \"we'd\",\n",
       " \"we'll\",\n",
       " \"we're\",\n",
       " \"we've\",\n",
       " 'were',\n",
       " 'weren',\n",
       " \"weren't\",\n",
       " 'what',\n",
       " 'when',\n",
       " 'where',\n",
       " 'which',\n",
       " 'while',\n",
       " 'who',\n",
       " 'whom',\n",
       " 'why',\n",
       " 'will',\n",
       " 'with',\n",
       " 'won',\n",
       " \"won't\",\n",
       " 'wouldn',\n",
       " \"wouldn't\",\n",
       " 'y',\n",
       " 'you',\n",
       " \"you'd\",\n",
       " \"you'll\",\n",
       " \"you're\",\n",
       " \"you've\",\n",
       " 'your',\n",
       " 'yours',\n",
       " 'yourself',\n",
       " 'yourselves'}"
      ]
     },
     "execution_count": 12,
     "metadata": {},
     "output_type": "execute_result"
    }
   ],
   "source": [
    "from nltk.corpus import stopwords\n",
    "stop_words = set(stopwords.words('english'))\n",
    "stop_words"
   ]
  },
  {
   "cell_type": "code",
   "execution_count": 13,
   "id": "c065f62e",
   "metadata": {},
   "outputs": [],
   "source": [
    "def preprocess_text(text):\n",
    "    \"\"\"\n",
    "    Cleans and preprocesses a single text string.\n",
    "    1. Removes HTML tags\n",
    "    2. Lowercases text\n",
    "    3. Removes punctuation and numbers\n",
    "    4. Tokenizes text\n",
    "    5. Removes stop words\n",
    "    6. Lemmatizes words\n",
    "    \"\"\"\n",
    "    text = re.sub(r'<.*?>', '', text)\n",
    "    text = text.lower()\n",
    "    text = re.sub(r'[^a-z\\s]', '', text)\n",
    "    tokens = word_tokenize(text)\n",
    "    tokens = [word for word in tokens if word not in stop_words]\n",
    "    \n",
    "    # Lemmatization is often better than stemming\n",
    "    text = ' '.join(tokens)\n",
    "    doc = nlp(text)\n",
    "    lemmatized_tokens = [token.lemma_ for token in doc]\n",
    "    \n",
    "    return ' '.join(lemmatized_tokens)"
   ]
  },
  {
   "cell_type": "code",
   "execution_count": 16,
   "id": "bcb2ab72",
   "metadata": {},
   "outputs": [
    {
     "name": "stdout",
     "output_type": "stream",
     "text": [
      "preprocessing all 50k reviews .....\n",
      "Preprcessing Complete!\n",
      "\n",
      "Comparing Orignal vs Cleaned Review:\n"
     ]
    },
    {
     "data": {
      "text/html": [
       "<div>\n",
       "<style scoped>\n",
       "    .dataframe tbody tr th:only-of-type {\n",
       "        vertical-align: middle;\n",
       "    }\n",
       "\n",
       "    .dataframe tbody tr th {\n",
       "        vertical-align: top;\n",
       "    }\n",
       "\n",
       "    .dataframe thead th {\n",
       "        text-align: right;\n",
       "    }\n",
       "</style>\n",
       "<table border=\"1\" class=\"dataframe\">\n",
       "  <thead>\n",
       "    <tr style=\"text-align: right;\">\n",
       "      <th></th>\n",
       "      <th>review</th>\n",
       "      <th>cleaned_review</th>\n",
       "    </tr>\n",
       "  </thead>\n",
       "  <tbody>\n",
       "    <tr>\n",
       "      <th>2073</th>\n",
       "      <td>This movie is a piece of the time in which it was made..... Realistic. Movies were not candy coated during the late 60s and early 70s. The producers did not try to create some happy ending that didn't exist. The lack of a happy ending would create agitation in the audience that, hopefully would spur them on to action. At least that's how it seemed at the time. In today's movie world this movie would probably not be done. There would, definitely, not be this ending, however realistic. The sad fact is that the movie depicted a situation which could not be improved upon without action from the improvement of the relationship between the white southern traditional thinking and the progressive movements of that time.</td>\n",
       "      <td>movie piece time make realistic movie candy coat late early producer try create happy ending do not exist lack happy ending would create agitation audience hopefully would spur action least that s seem time todays movie world movie would probably do would definitely end however realistic sad fact movie depict situation could improve upon without action improvement relationship white southern traditional thinking progressive movement time</td>\n",
       "    </tr>\n",
       "    <tr>\n",
       "      <th>31482</th>\n",
       "      <td>Gerard is a writer with a somewhat overactive imagination. He is also homosexual and Catholic prone to Catholic guilt and something of a clairvoyant, or so it seems. On a trip to Flushing he is 'seduced' by Christine. When he discovers that Christine's new boyfriend is the bit of rough trade he's been fancying from afar he decides to stick around. After all, enforced heterosexuality has its compensations. Then he realizes that Christine's previous three husbands have all died violent deaths. Did Christine murder them and is he or the boyfriend, Herman, going to be 'the fourth man'? Verhoeven's overheated, over-egged melodrama is a delicious blend of Hitchcock and David Lynch, full of OTT eroticism and religious imagery and an awful lot of the colour red. A lot of the time it looks and feels like a dream and we can never be sure that what we are seeing is real or a figment of Gerard's imagination. The fun is in figuring it out. Also the fact that Christine is an infinitely more likable character that either the priggish Gerard or the bullish Herman means we are hardly like to root for either of the men over her. In fact, it's fair to say Gerard's comeuppance can't come soon enough. Super performances, too, from Jeroen Krabbe and Renee Soutendijk and easily Verhoeven's best film up to his wonderfully subversive piece of sci-fi \"Starship Troopers\".</td>\n",
       "      <td>gerard writer somewhat overactive imagination also homosexual catholic prone catholic guilt something clairvoyant seem trip flush seduce christine discover christine new boyfriend bit rough trade he s fancy afar decide stick around enforce heterosexuality compensation realize christine previous three husband die violent death christine murder boyfriend herman go fourth man verhoeven overheat overegge melodrama delicious blend hitchcock david lynch full ott eroticism religious imagery awful lot colour red lot time look feel like dream never sure see real figment gerards imagination fun figure also fact christine infinitely likable character either priggish gerard bullish herman mean hardly like root either man fact fair say gerards comeuppance can not come soon enough super performance jeroen krabbe renee soutendijk easily verhoeven good film wonderfully subversive piece scifi starship trooper</td>\n",
       "    </tr>\n",
       "    <tr>\n",
       "      <th>33476</th>\n",
       "      <td>Although, this episode was offensive to the Tourette Syndrome Association, others thought it was funny, while others thought it was a bad way to start the new season.&lt;br /&gt;&lt;br /&gt;This episode was funny and just shocking. South Park has made history as being their first episode with the most cuss words, unless you count the movie as an episode.&lt;br /&gt;&lt;br /&gt;I enjoyed how they made fun of Chris Hansen and his television show, to Catch a Predator. I didn't like the idea on how they thought Chris Hansen would do a show on tourettes and let a boy speak out and bash the Jews.&lt;br /&gt;&lt;br /&gt;One thing I did not like is how South Park thought that people with tourettes syndrome would just blurt out bad language like that. I've seen people on television with Tourettes syndrome and they do not just blurt out bad words. Unless I am incorrect.</td>\n",
       "      <td>although episode offensive tourette syndrome association other think funny other think bad way start new seasonthis episode funny shocking south park make history first episode cuss word unless count movie episodei enjoyed make fun chris hansen television show catch predator do not like idea think chris hansen would show tourette let boy speak bash jewsone thing like south park think people tourette syndrome would blurt bad language like I ve see people television tourette syndrome blurt bad word unless incorrect</td>\n",
       "    </tr>\n",
       "    <tr>\n",
       "      <th>39003</th>\n",
       "      <td>This movie was horrible, simply put. It was so bad I registered with IMDb to warn you of its dangers.&lt;br /&gt;&lt;br /&gt;I am a campy horror film expert, per se. I have watched \"Redneck Zombies\", \"House of the Psychotic Women\", \"Slumber Party Massacre II\" and many others. I know my schlock. And I know this movie sucks.&lt;br /&gt;&lt;br /&gt;Three fourths of the film is comprised of scared individuals running from one side of the screen to the other. When they are not running, they are spouting non-sequitur lines, devoid of emotion or motivation. When the actors begin to be acceptable, the direction falls to pieces. There were so many jarring low-angle shots; I figured Leif Jonker had a 3 foot tall tripod. He used what I call the \"Leif Maneuver\" several millions times: that is, zooming out from an object of interest like an amateur. Apparently the film crew couldn't get up early enough to film a sunrise, so they filmed a sunset... and played it in reverse. With direction this lazy, you are actually impressed with the final gory scene. The only thing you can figure is that the last five minutes was filmed before the first eighty-five minutes.&lt;br /&gt;&lt;br /&gt;If you want a good (bad) gory movie, rent \"Riki-Oh\" or the foundational \"Dead Alive.\" If you are a schlock buff, and are looking for a challenge, give \"Darkness\" a go.&lt;br /&gt;&lt;br /&gt;Quote o' the movie-&lt;br /&gt;&lt;br /&gt;Vampire: It's die time!</td>\n",
       "      <td>movie horrible simply put bad register imdb warn dangersi campy horror film expert per se watch redneck zombie house psychotic woman slumber party massacre ii many other know schlock know movie sucksthree fourth film comprise scared individual run one side screen run spout nonsequitur line devoid emotion motivation actor begin acceptable direction fall piece many jarring lowangle shot figure leif jonker foot tall tripod use call leif maneuver several million time zoom object interest like amateur apparently film crew could not get early enough film sunrise film sunset play reverse direction lazy actually impress final gory scene thing figure last five minute film first eightyfive minutesif want good bad gory movie rent rikioh foundational dead alive schlock buff look challenge give darkness goquote movievampire die time</td>\n",
       "    </tr>\n",
       "    <tr>\n",
       "      <th>22681</th>\n",
       "      <td>After reading some of the earlier nasty remarks, I had to put in my two cents. This show was NOT, despite what that goon in Essex thinks, the worst thing that ever aired on TV. I think most of today's TV is much worse (when is this stupid \"reality\" fad ever going to end??) and there isn't a current show I can stand to watch. Gimme the stuff I grew up with. I'm a 1965 baby and not ashamed to admit it.&lt;br /&gt;&lt;br /&gt;This show has been my all-time favorite for almost 30 years. I was in high school when it originally aired and I think it helped me to hang on throughout those miserable days. I was such a misfit back then, and \"Fantasy Island\" appealed to my imagination. As I was a budding writer in those days, it provided incredible opportunities for me to practice the craft. What a wonderful premise! I won't say it didn't have its faults. Sometimes the scripts were pretty bad, and some of the problems seemed trivial; but it could be good too, and it was a blast to watch and still is. As for the cheesiness factor, well, I think it's unfair to label every single 70s product as cheesy. There was a lot of great stuff back then and this was among the ranks. (BTW, most of the seasons aired in the 80s!!) My favorite episodes came from seasons 2, 3 and 4 mostly.&lt;br /&gt;&lt;br /&gt;To those who disparage Hervé Villechaize for his heavy French accent and his short stature: GROW UP and LEARN SOMETHING! It's so easy to make fun when you're \"normal\" and \"perfect\". That man made the best of what he was dealt in life, and if you don't like it, that's just tough. Have a little compassion. He's been dead 15 years, and how easy it is to cut down someone who can't defend himself. There's just no shame anymore.&lt;br /&gt;&lt;br /&gt;I love this show. So it looks dated. Hate to tell you this, but we didn't have splashy special effects and Blu-Ray discs. We were lucky to have VCRs. Live with it. Accept it for what it is, and that's just plain fun. \"Escapist TV\" describes it perfectly, and that's what it was for me -- an escape from my rotten real life. And it's still a lot of fun to watch.</td>\n",
       "      <td>read early nasty remark put two cent show despite goon essex think bad thing ever air tv think today tv much bad stupid reality fad ever go end be not current show stand watch gim stuff grow I m baby ashamed admit itthis show alltime favorite almost year high school originally air think helped hang throughout miserable day misfit back fantasy island appeal imagination bud writer day provide incredible opportunity practice craft wonderful premise will not say do not fault sometimes script pretty bad problem seem trivial could good blast watch still cheesiness factor well think unfair label every single product cheesy lot great stuff back among rank btw season air favorite episode come season mostlyto disparage herv villechaize heavy french accent short stature grow learn something easy make fun you re normal perfect man make good deal life do not like that s tough little compassion he s dead year easy cut someone can not defend there s shame anymorei love show look date hate tell do not splashy special effect bluray discs lucky vcrs live accept that s plain fun escapist tv describe perfectly that s escape rotten real life still lot fun watch</td>\n",
       "    </tr>\n",
       "  </tbody>\n",
       "</table>\n",
       "</div>"
      ],
      "text/plain": [
       "                                                                                                                                                                                                                                                                                                                                                                                                                                                                                                                                                                                                                                                                                                                                                                                                                                                                                                                                                                                                                                                                                                                                                                                                                                                                                                                                                                                                                                                                                                                                                                                                                                                                                                                                                                                                                                                                                                                                                                                                                                                                                                                                                               review  \\\n",
       "2073                                                                                                                                                                                                                                                                                                                                                                                                                                                                                                                                                                                                                                                                                                                                                                                                                                                                                                                                                                                                                                                                                                                                                                                                                                                                                                                                                                                                                This movie is a piece of the time in which it was made..... Realistic. Movies were not candy coated during the late 60s and early 70s. The producers did not try to create some happy ending that didn't exist. The lack of a happy ending would create agitation in the audience that, hopefully would spur them on to action. At least that's how it seemed at the time. In today's movie world this movie would probably not be done. There would, definitely, not be this ending, however realistic. The sad fact is that the movie depicted a situation which could not be improved upon without action from the improvement of the relationship between the white southern traditional thinking and the progressive movements of that time.   \n",
       "31482                                                                                                                                                                                                                                                                                                                                                                                                                                                                                                                                                                                                                                                                                                                                         Gerard is a writer with a somewhat overactive imagination. He is also homosexual and Catholic prone to Catholic guilt and something of a clairvoyant, or so it seems. On a trip to Flushing he is 'seduced' by Christine. When he discovers that Christine's new boyfriend is the bit of rough trade he's been fancying from afar he decides to stick around. After all, enforced heterosexuality has its compensations. Then he realizes that Christine's previous three husbands have all died violent deaths. Did Christine murder them and is he or the boyfriend, Herman, going to be 'the fourth man'? Verhoeven's overheated, over-egged melodrama is a delicious blend of Hitchcock and David Lynch, full of OTT eroticism and religious imagery and an awful lot of the colour red. A lot of the time it looks and feels like a dream and we can never be sure that what we are seeing is real or a figment of Gerard's imagination. The fun is in figuring it out. Also the fact that Christine is an infinitely more likable character that either the priggish Gerard or the bullish Herman means we are hardly like to root for either of the men over her. In fact, it's fair to say Gerard's comeuppance can't come soon enough. Super performances, too, from Jeroen Krabbe and Renee Soutendijk and easily Verhoeven's best film up to his wonderfully subversive piece of sci-fi \"Starship Troopers\".   \n",
       "33476                                                                                                                                                                                                                                                                                                                                                                                                                                                                                                                                                                                                                                                                                                                                                                                                                                                                                                                                                                                                                                                                                                                                                                                                                                                                                            Although, this episode was offensive to the Tourette Syndrome Association, others thought it was funny, while others thought it was a bad way to start the new season.<br /><br />This episode was funny and just shocking. South Park has made history as being their first episode with the most cuss words, unless you count the movie as an episode.<br /><br />I enjoyed how they made fun of Chris Hansen and his television show, to Catch a Predator. I didn't like the idea on how they thought Chris Hansen would do a show on tourettes and let a boy speak out and bash the Jews.<br /><br />One thing I did not like is how South Park thought that people with tourettes syndrome would just blurt out bad language like that. I've seen people on television with Tourettes syndrome and they do not just blurt out bad words. Unless I am incorrect.   \n",
       "39003                                                                                                                                                                                                                                                                                                                                                                                                                                                                                                                                                                                                                                                                                                                        This movie was horrible, simply put. It was so bad I registered with IMDb to warn you of its dangers.<br /><br />I am a campy horror film expert, per se. I have watched \"Redneck Zombies\", \"House of the Psychotic Women\", \"Slumber Party Massacre II\" and many others. I know my schlock. And I know this movie sucks.<br /><br />Three fourths of the film is comprised of scared individuals running from one side of the screen to the other. When they are not running, they are spouting non-sequitur lines, devoid of emotion or motivation. When the actors begin to be acceptable, the direction falls to pieces. There were so many jarring low-angle shots; I figured Leif Jonker had a 3 foot tall tripod. He used what I call the \"Leif Maneuver\" several millions times: that is, zooming out from an object of interest like an amateur. Apparently the film crew couldn't get up early enough to film a sunrise, so they filmed a sunset... and played it in reverse. With direction this lazy, you are actually impressed with the final gory scene. The only thing you can figure is that the last five minutes was filmed before the first eighty-five minutes.<br /><br />If you want a good (bad) gory movie, rent \"Riki-Oh\" or the foundational \"Dead Alive.\" If you are a schlock buff, and are looking for a challenge, give \"Darkness\" a go.<br /><br />Quote o' the movie-<br /><br />Vampire: It's die time!   \n",
       "22681  After reading some of the earlier nasty remarks, I had to put in my two cents. This show was NOT, despite what that goon in Essex thinks, the worst thing that ever aired on TV. I think most of today's TV is much worse (when is this stupid \"reality\" fad ever going to end??) and there isn't a current show I can stand to watch. Gimme the stuff I grew up with. I'm a 1965 baby and not ashamed to admit it.<br /><br />This show has been my all-time favorite for almost 30 years. I was in high school when it originally aired and I think it helped me to hang on throughout those miserable days. I was such a misfit back then, and \"Fantasy Island\" appealed to my imagination. As I was a budding writer in those days, it provided incredible opportunities for me to practice the craft. What a wonderful premise! I won't say it didn't have its faults. Sometimes the scripts were pretty bad, and some of the problems seemed trivial; but it could be good too, and it was a blast to watch and still is. As for the cheesiness factor, well, I think it's unfair to label every single 70s product as cheesy. There was a lot of great stuff back then and this was among the ranks. (BTW, most of the seasons aired in the 80s!!) My favorite episodes came from seasons 2, 3 and 4 mostly.<br /><br />To those who disparage Hervé Villechaize for his heavy French accent and his short stature: GROW UP and LEARN SOMETHING! It's so easy to make fun when you're \"normal\" and \"perfect\". That man made the best of what he was dealt in life, and if you don't like it, that's just tough. Have a little compassion. He's been dead 15 years, and how easy it is to cut down someone who can't defend himself. There's just no shame anymore.<br /><br />I love this show. So it looks dated. Hate to tell you this, but we didn't have splashy special effects and Blu-Ray discs. We were lucky to have VCRs. Live with it. Accept it for what it is, and that's just plain fun. \"Escapist TV\" describes it perfectly, and that's what it was for me -- an escape from my rotten real life. And it's still a lot of fun to watch.   \n",
       "\n",
       "                                                                                                                                                                                                                                                                                                                                                                                                                                                                                                                                                                                                                                                                                                                                                                                                                                                                                                                                                                                                                                                                                                                                                                                               cleaned_review  \n",
       "2073                                                                                                                                                                                                                                                                                                                                                                                                                                                                                                                                                                                                                                                                                                                                                movie piece time make realistic movie candy coat late early producer try create happy ending do not exist lack happy ending would create agitation audience hopefully would spur action least that s seem time todays movie world movie would probably do would definitely end however realistic sad fact movie depict situation could improve upon without action improvement relationship white southern traditional thinking progressive movement time  \n",
       "31482                                                                                                                                                                                                                                                               gerard writer somewhat overactive imagination also homosexual catholic prone catholic guilt something clairvoyant seem trip flush seduce christine discover christine new boyfriend bit rough trade he s fancy afar decide stick around enforce heterosexuality compensation realize christine previous three husband die violent death christine murder boyfriend herman go fourth man verhoeven overheat overegge melodrama delicious blend hitchcock david lynch full ott eroticism religious imagery awful lot colour red lot time look feel like dream never sure see real figment gerards imagination fun figure also fact christine infinitely likable character either priggish gerard bullish herman mean hardly like root either man fact fair say gerards comeuppance can not come soon enough super performance jeroen krabbe renee soutendijk easily verhoeven good film wonderfully subversive piece scifi starship trooper  \n",
       "33476                                                                                                                                                                                                                                                                                                                                                                                                                                                                                                                                                                                                                                                                  although episode offensive tourette syndrome association other think funny other think bad way start new seasonthis episode funny shocking south park make history first episode cuss word unless count movie episodei enjoyed make fun chris hansen television show catch predator do not like idea think chris hansen would show tourette let boy speak bash jewsone thing like south park think people tourette syndrome would blurt bad language like I ve see people television tourette syndrome blurt bad word unless incorrect  \n",
       "39003                                                                                                                                                                                                                                                                                                                                         movie horrible simply put bad register imdb warn dangersi campy horror film expert per se watch redneck zombie house psychotic woman slumber party massacre ii many other know schlock know movie sucksthree fourth film comprise scared individual run one side screen run spout nonsequitur line devoid emotion motivation actor begin acceptable direction fall piece many jarring lowangle shot figure leif jonker foot tall tripod use call leif maneuver several million time zoom object interest like amateur apparently film crew could not get early enough film sunrise film sunset play reverse direction lazy actually impress final gory scene thing figure last five minute film first eightyfive minutesif want good bad gory movie rent rikioh foundational dead alive schlock buff look challenge give darkness goquote movievampire die time  \n",
       "22681  read early nasty remark put two cent show despite goon essex think bad thing ever air tv think today tv much bad stupid reality fad ever go end be not current show stand watch gim stuff grow I m baby ashamed admit itthis show alltime favorite almost year high school originally air think helped hang throughout miserable day misfit back fantasy island appeal imagination bud writer day provide incredible opportunity practice craft wonderful premise will not say do not fault sometimes script pretty bad problem seem trivial could good blast watch still cheesiness factor well think unfair label every single product cheesy lot great stuff back among rank btw season air favorite episode come season mostlyto disparage herv villechaize heavy french accent short stature grow learn something easy make fun you re normal perfect man make good deal life do not like that s tough little compassion he s dead year easy cut someone can not defend there s shame anymorei love show look date hate tell do not splashy special effect bluray discs lucky vcrs live accept that s plain fun escapist tv describe perfectly that s escape rotten real life still lot fun watch  "
      ]
     },
     "metadata": {},
     "output_type": "display_data"
    }
   ],
   "source": [
    "import re\n",
    "from nltk.tokenize import word_tokenize\n",
    "print(\"preprocessing all 50k reviews .....\")\n",
    "df = df.sample(500).copy()\n",
    "df['cleaned_review'] = df['review'].apply(preprocess_text)\n",
    "print(\"Preprcessing Complete!\")\n",
    "print(\"\\nComparing Orignal vs Cleaned Review:\")\n",
    "display(df[['review','cleaned_review']].head())"
   ]
  },
  {
   "cell_type": "code",
   "execution_count": 19,
   "id": "cd1b7796",
   "metadata": {},
   "outputs": [
    {
     "name": "stdout",
     "output_type": "stream",
     "text": [
      "Training set size: 400\n",
      "Testing set size: 100\n"
     ]
    }
   ],
   "source": [
    "from sklearn.model_selection import train_test_split\n",
    "df['sentiment_numeric'] = df['sentiment'].map({'positive':1,'negative':0})\n",
    "X = df['cleaned_review']\n",
    "Y = df['sentiment_numeric']\n",
    "\n",
    "X_train, X_test, Y_train, Y_test = train_test_split(X, Y, test_size=0.2, random_state=42, stratify=Y)\n",
    "\n",
    "\n",
    "print(f\"Training set size: {len(X_train)}\")\n",
    "print(f\"Testing set size: {len(X_test)}\")"
   ]
  },
  {
   "cell_type": "code",
   "execution_count": 21,
   "id": "09a87b6f",
   "metadata": {},
   "outputs": [
    {
     "name": "stdout",
     "output_type": "stream",
     "text": [
      "Shape of the training TF-IDF matrix: (400, 500)\n",
      "Shape of the testing TF-IDF matrix: (100, 500)\n"
     ]
    }
   ],
   "source": [
    "from sklearn.feature_extraction.text import TfidfVectorizer\n",
    "\n",
    "# Initialize the TF-IDF Vectorizer\n",
    "# max_features=5000 means we only use the 5000 most common words, which is efficient\n",
    "tfidf = TfidfVectorizer(max_features=500)\n",
    "\n",
    "# Fit the vectorizer on the training data and transform it\n",
    "X_train_tfidf = tfidf.fit_transform(X_train)\n",
    "\n",
    "# ONLY transform the test data using the already-fitted vectorizer\n",
    "X_test_tfidf = tfidf.transform(X_test)\n",
    "\n",
    "print(f\"Shape of the training TF-IDF matrix: {X_train_tfidf.shape}\")\n",
    "print(f\"Shape of the testing TF-IDF matrix: {X_test_tfidf.shape}\")"
   ]
  },
  {
   "cell_type": "code",
   "execution_count": 23,
   "id": "344d2337",
   "metadata": {},
   "outputs": [
    {
     "name": "stdout",
     "output_type": "stream",
     "text": [
      "Model training complete!\n"
     ]
    }
   ],
   "source": [
    "from sklearn.linear_model import LogisticRegression\n",
    "\n",
    "# Initialize and train the model\n",
    "# solver='liblinear' is a good choice for this type of problem\n",
    "model = LogisticRegression(solver='liblinear')\n",
    "model.fit(X_train_tfidf, Y_train)\n",
    "\n",
    "print(\"Model training complete!\")"
   ]
  },
  {
   "cell_type": "code",
   "execution_count": 24,
   "id": "62c5d5bf",
   "metadata": {},
   "outputs": [
    {
     "name": "stdout",
     "output_type": "stream",
     "text": [
      "Review: 'This movie was absolutely fantastic! The acting was superb and the plot was gripping.'\n",
      "Predicted Sentiment: Positive\n",
      "\n",
      "Review: 'I was so bored throughout the entire film. It was a complete waste of time and money.'\n",
      "Predicted Sentiment: Negative\n",
      "\n",
      "Review: 'The film was okay, not great but not terrible either. Some parts were good.'\n",
      "Predicted Sentiment: Positive\n",
      "\n"
     ]
    }
   ],
   "source": [
    "def predict_sentiment(text):\n",
    "    \"\"\"\n",
    "    Takes a raw text string and predicts its sentiment using the trained model.\n",
    "    \"\"\"\n",
    "    # 1. Preprocess the text using the same function from Cell 2\n",
    "    cleaned_text = preprocess_text(text)\n",
    "    \n",
    "    # 2. Vectorize the text using the SAME fitted TF-IDF vectorizer from Cell 5\n",
    "    vectorized_text = tfidf.transform([cleaned_text])\n",
    "    \n",
    "    # 3. Predict using the trained model from Cell 6\n",
    "    prediction = model.predict(vectorized_text)\n",
    "    \n",
    "    # 4. Return the human-readable result\n",
    "    return 'Positive' if prediction[0] == 1 else 'Negative'\n",
    "\n",
    "# --- Test Cases ---\n",
    "review_1 = \"This movie was absolutely fantastic! The acting was superb and the plot was gripping.\"\n",
    "review_2 = \"I was so bored throughout the entire film. It was a complete waste of time and money.\"\n",
    "review_3 = \"The film was okay, not great but not terrible either. Some parts were good.\"\n",
    "\n",
    "print(f\"Review: '{review_1}'\\nPredicted Sentiment: {predict_sentiment(review_1)}\\n\")\n",
    "print(f\"Review: '{review_2}'\\nPredicted Sentiment: {predict_sentiment(review_2)}\\n\")\n",
    "print(f\"Review: '{review_3}'\\nPredicted Sentiment: {predict_sentiment(review_3)}\\n\")"
   ]
  },
  {
   "cell_type": "code",
   "execution_count": 27,
   "id": "b7c07e32",
   "metadata": {},
   "outputs": [
    {
     "name": "stdout",
     "output_type": "stream",
     "text": [
      "Model Accuracy: 0.7800\n",
      "\n",
      "Classification Report:\n",
      "              precision    recall  f1-score   support\n",
      "\n",
      "    Negative       0.84      0.67      0.74        48\n",
      "    Positive       0.74      0.88      0.81        52\n",
      "\n",
      "    accuracy                           0.78       100\n",
      "   macro avg       0.79      0.78      0.78       100\n",
      "weighted avg       0.79      0.78      0.78       100\n",
      "\n"
     ]
    },
    {
     "data": {
      "image/png": "[encoded data removed]",
      "text/plain": [
       "<Figure size 600x500 with 2 Axes>"
      ]
     },
     "metadata": {},
     "output_type": "display_data"
    }
   ],
   "source": [
    "from sklearn.metrics import accuracy_score, classification_report, confusion_matrix\n",
    "import matplotlib.pyplot as plt\n",
    "import seaborn as sns\n",
    "\n",
    "# Make predictions on the test set\n",
    "y_pred = model.predict(X_test_tfidf)\n",
    "\n",
    "# Calculate accuracy\n",
    "accuracy = accuracy_score(Y_test, y_pred)\n",
    "print(f\"Model Accuracy: {accuracy:.4f}\")\n",
    "\n",
    "# Print the detailed classification report\n",
    "print(\"\\nClassification Report:\")\n",
    "print(classification_report(Y_test, y_pred, target_names=['Negative', 'Positive']))\n",
    "\n",
    "# Plot the confusion matrix\n",
    "cm = confusion_matrix(Y_test, y_pred)\n",
    "plt.figure(figsize=(6, 5))\n",
    "sns.heatmap(cm, annot=True, fmt='d', cmap='Blues', \n",
    "            xticklabels=['Negative', 'Positive'], \n",
    "            yticklabels=['Negative', 'Positive'])\n",
    "plt.xlabel('Predicted Label')\n",
    "plt.ylabel('True Label')\n",
    "plt.title('Confusion Matrix')\n",
    "plt.show()"
   ]
  },
  {
   "cell_type": "code",
   "execution_count": null,
   "id": "dbbe87aa",
   "metadata": {},
   "outputs": [],
   "source": []
  }
 ],
 "metadata": {
  "kernelspec": {
   "display_name": "venv",
   "language": "python",
   "name": "python3"
  },
  "language_info": {
   "codemirror_mode": {
    "name": "ipython",
    "version": 3
   },
   "file_extension": ".py",
   "mimetype": "text/x-python",
   "name": "python",
   "nbconvert_exporter": "python",
   "pygments_lexer": "ipython3",
   "version": "3.12.5"
  }
 },
 "nbformat": 4,
 "nbformat_minor": 5
}
